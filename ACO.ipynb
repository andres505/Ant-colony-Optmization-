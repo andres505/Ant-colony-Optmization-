{
  "nbformat": 4,
  "nbformat_minor": 0,
  "metadata": {
    "colab": {
      "provenance": [],
      "gpuType": "V28"
    },
    "kernelspec": {
      "name": "python3",
      "display_name": "Python 3"
    },
    "language_info": {
      "name": "python"
    },
    "accelerator": "TPU"
  },
  "cells": [
    {
      "cell_type": "code",
      "source": [
        "import matplotlib.pyplot as plt\n",
        "import networkx as nx\n",
        "import random"
      ],
      "metadata": {
        "id": "z4X5fMLrEJbh"
      },
      "execution_count": null,
      "outputs": []
    },
    {
      "cell_type": "code",
      "source": [
        "\n",
        "def ant_colony_optimization(graph, source, destination, num_ants, num_iterations, evaporation_rate, alpha, beta):\n",
        "    pheromone = initialize_pheromone(graph)\n",
        "\n",
        "    best_path = None\n",
        "    best_path_length = float('inf')\n",
        "\n",
        "    for _ in range(num_iterations):\n",
        "        paths = []\n",
        "        path_lengths = []\n",
        "\n",
        "        for _ in range(num_ants):\n",
        "            path = construct_path(graph, source, destination, pheromone, alpha, beta)\n",
        "            path_length = calculate_path_length(graph, path)\n",
        "\n",
        "            if path_length < best_path_length:\n",
        "                best_path = path\n",
        "                best_path_length = path_length\n",
        "\n",
        "            paths.append(path)\n",
        "            path_lengths.append(path_length)\n",
        "\n",
        "        update_pheromone(pheromone, paths, path_lengths, evaporation_rate)\n",
        "    print(best_path)\n",
        "    return best_path, pheromone\n",
        "\n",
        "def initialize_pheromone(graph):\n",
        "\n",
        "    pheromone = {}\n",
        "    for edge in graph.edges:\n",
        "        pheromone[edge] = 1.0\n",
        "        #Para que reivse los dos lados\n",
        "        reverse_edge = (edge[1], edge[0])\n",
        "        pheromone[reverse_edge] = 1.0\n",
        "    return pheromone\n",
        "\n",
        "def construct_path(graph, source, destination, pheromone, alpha, beta):\n",
        "    path = [source]\n",
        "    current_node = source\n",
        "\n",
        "    while current_node != destination:\n",
        "        next_node = select_next_node(graph, current_node, destination, pheromone, alpha, beta)\n",
        "        path.append(next_node)\n",
        "        current_node = next_node\n",
        "\n",
        "    return path\n",
        "\n",
        "def select_next_node(graph, current_node, destination, pheromone, alpha, beta):\n",
        "    neighbors = list(graph.neighbors(current_node))\n",
        "\n",
        "    if destination in neighbors:\n",
        "        return destination\n",
        "\n",
        "    probabilities = []\n",
        "\n",
        "    for neighbor in neighbors:\n",
        "        pheromone_value = pheromone[(current_node, neighbor)]\n",
        "        distance = graph.edges[(current_node, neighbor)]['weight']\n",
        "        attractiveness = (pheromone_value ** alpha) * ((1.0 / distance) ** beta)\n",
        "        probabilities.append(attractiveness)\n",
        "\n",
        "    total_prob = sum(probabilities)\n",
        "    probabilities = [prob / total_prob for prob in probabilities]\n",
        "    return random.choices(neighbors, probabilities)[0]\n",
        "\n",
        "def calculate_path_length(graph, path):\n",
        "    path_length = 0\n",
        "    for i in range(len(path) - 1):\n",
        "        source = path[i]\n",
        "        destination = path[i+1]\n",
        "        path_length += graph.edges[(source, destination)]['weight']\n",
        "    return path_length\n",
        "\n",
        "def update_pheromone(pheromone, paths, path_lengths, evaporation_rate):\n",
        "    for edge in pheromone:\n",
        "        pheromone[edge] *= (1.0 - evaporation_rate)\n",
        "\n",
        "    for path, length in zip(paths, path_lengths):\n",
        "        for i in range(len(path) - 1):\n",
        "            source = path[i]\n",
        "            destination = path[i+1]\n",
        "\n",
        "            pheromone[(source, destination)] += 1.0 / length\n",
        "            pheromone[(destination, source)] += 1.0 / length\n",
        "\n",
        "\n",
        "# Create the graph\n",
        "G = nx.Graph()\n",
        "\n",
        "# Add edges to the graph\n",
        "G.add_edge(\"El rosario\", \"Tacuba\", weight=5.264)\n",
        "G.add_edge(\"Tacuba\", \"Tacubaya\", weight=5.843)\n",
        "G.add_edge(\"Martin Carrera\", \"D18M\", weight=1.711)\n",
        "G.add_edge(\"D18M\", \"IPetro\", weight=2.333)\n",
        "G.add_edge( \"IPetro\",\"D18M\", weight=2.333)\n",
        "G.add_edge(\"El rosario\", \"IPetro\", weight=5.890)\n",
        "G.add_edge(\"Martin Carrera\", \"Consulado\", weight=2.733)\n",
        "G.add_edge(\"Consulado\", \"Morelos\", weight=1.794)\n",
        "G.add_edge(\"Morelos\", \"Candelaria\", weight=1.062)\n",
        "G.add_edge(\"Candelaria\", \"Jamaica\", weight=2.726)\n",
        "G.add_edge(\"Jamaica\", \"Santa Anita\", weight=0.758)\n",
        "G.add_edge(\"Tacubaya\", \"CM\", weight=3.240)\n",
        "G.add_edge(\"CM\", \"Chabacano\", weight=2.059)\n",
        "G.add_edge(\"Chabacano\", \"Jamaica\", weight=1.031)\n",
        "G.add_edge(\"Jamaica\", \"Pantitlan\", weight=5.053)\n",
        "G.add_edge(\"Tacuba\", \"Hidalgo\", weight=4.016)\n",
        "G.add_edge(\"Bellas\", \"Hidalgo\", weight=0.447)\n",
        "G.add_edge(\"Bellas\", \"PinoS\", weight=1.734)\n",
        "G.add_edge(\"PinoS\", \"Chabacano\", weight=1.459)\n",
        "G.add_edge(\"Tacubaya\", \"Balderas\", weight=4.479)\n",
        "G.add_edge(\"Balderas\", \"SaltoA\", weight=0.458)\n",
        "G.add_edge(\"SaltoA\", \"PinoS\", weight=0.827)\n",
        "G.add_edge(\"PinoS\", \"Candelaria\", weight=1.443)\n",
        "G.add_edge(\"Candelaria\", \"SanLazaro\", weight=0.866)\n",
        "G.add_edge(\"SanLazaro\", \"Pantitlan\", weight=4.469)\n",
        "G.add_edge(\"IPetro\", \"La raza\", weight=2.042)\n",
        "G.add_edge(\"La raza\", \"Consulado\", weight=2.540)\n",
        "G.add_edge(\"Consulado\", \"Oceania\", weight=2.894)\n",
        "G.add_edge(\"Oceania\", \"Pantitlan\", weight=3.971)\n",
        "G.add_edge(\"Guerrero\", \"Garibaldi\", weight=0.757)\n",
        "G.add_edge(\"Garibaldi\", \"Morelos\", weight=1.583)\n",
        "G.add_edge(\"Morelos\", \"SanLazaro\", weight=1.296)\n",
        "G.add_edge(\"SanLazaro\", \"Oceania\", weight=2.624)\n",
        "G.add_edge(\"Garibaldi\", \"Bellas\", weight=0.634)\n",
        "G.add_edge(\"Bellas\", \"SaltoA\", weight=0.748)\n",
        "G.add_edge(\"SaltoA\", \"Chabacano\", weight=2.468)\n",
        "G.add_edge(\"Chabacano\", \"Santa Anita\", weight=1.476)\n",
        "G.add_edge(\"D18M\", \"La raza\", weight=2.072)\n",
        "G.add_edge(\"La raza\", \"Guerrero\", weight=2.487)\n",
        "G.add_edge(\"Guerrero\", \"Hidalgo\", weight=0.702)\n",
        "G.add_edge(\"Hidalgo\", \"Balderas\", weight=0.910)\n",
        "G.add_edge(\"Balderas\", \"CM\", weight=1.877)\n",
        "\n",
        "\n"
      ],
      "metadata": {
        "id": "Yx6RCc4-KtfV"
      },
      "execution_count": null,
      "outputs": []
    },
    {
      "cell_type": "code",
      "source": [
        "print(\"Graph Edges:\", G.edges)"
      ],
      "metadata": {
        "colab": {
          "base_uri": "https://localhost:8080/"
        },
        "id": "HR5ZH1IYNLzL",
        "outputId": "1534b00f-91ad-4b60-8454-bef3df359f59"
      },
      "execution_count": null,
      "outputs": [
        {
          "output_type": "stream",
          "name": "stdout",
          "text": [
            "Graph Edges: [('El rosario', 'Tacuba'), ('El rosario', 'IPetro'), ('Tacuba', 'Tacubaya'), ('Tacuba', 'Hidalgo'), ('Tacubaya', 'CM'), ('Tacubaya', 'Balderas'), ('Martin Carrera', 'D18M'), ('Martin Carrera', 'Consulado'), ('D18M', 'IPetro'), ('D18M', 'La raza'), ('IPetro', 'La raza'), ('Consulado', 'Morelos'), ('Consulado', 'La raza'), ('Consulado', 'Oceania'), ('Morelos', 'Candelaria'), ('Morelos', 'Garibaldi'), ('Morelos', 'SanLazaro'), ('Candelaria', 'Jamaica'), ('Candelaria', 'PinoS'), ('Candelaria', 'SanLazaro'), ('Jamaica', 'Santa Anita'), ('Jamaica', 'Chabacano'), ('Jamaica', 'Pantitlan'), ('Santa Anita', 'Chabacano'), ('CM', 'Chabacano'), ('CM', 'Balderas'), ('Chabacano', 'PinoS'), ('Chabacano', 'SaltoA'), ('Pantitlan', 'SanLazaro'), ('Pantitlan', 'Oceania'), ('Hidalgo', 'Bellas'), ('Hidalgo', 'Guerrero'), ('Hidalgo', 'Balderas'), ('Bellas', 'PinoS'), ('Bellas', 'Garibaldi'), ('Bellas', 'SaltoA'), ('PinoS', 'SaltoA'), ('Balderas', 'SaltoA'), ('SanLazaro', 'Oceania'), ('La raza', 'Guerrero'), ('Guerrero', 'Garibaldi')]\n"
          ]
        }
      ]
    },
    {
      "cell_type": "code",
      "source": [
        "#\n",
        "source_station = \"El rosario\"\n",
        "destination_station = \"Pantitlan\"\n",
        "\n",
        "# Parametro\n",
        "num_ants = 10\n",
        "num_iterations = 100\n",
        "evaporation_rate = 0.1\n",
        "alpha = 1.0\n",
        "beta = 2.0\n",
        "\n",
        "shortest_route,pheromone= ant_colony_optimization(G, source_station, destination_station, num_ants, num_iterations, evaporation_rate, alpha, beta)\n",
        "\n"
      ],
      "metadata": {
        "colab": {
          "base_uri": "https://localhost:8080/"
        },
        "id": "SH3HC9ulLmHF",
        "outputId": "1c2f2932-15ee-483d-baa5-015e9baa8067"
      },
      "execution_count": null,
      "outputs": [
        {
          "output_type": "stream",
          "name": "stdout",
          "text": [
            "['El rosario', 'IPetro', 'La raza', 'Consulado', 'Oceania', 'Pantitlan']\n"
          ]
        }
      ]
    },

    }
  ]
}
