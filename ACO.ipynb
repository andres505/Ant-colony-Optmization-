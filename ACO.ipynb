{
  "nbformat": 4,
  "nbformat_minor": 0,
  "metadata": {
    "colab": {
      "provenance": [],
      "gpuType": "V28"
    },
    "kernelspec": {
      "name": "python3",
      "display_name": "Python 3"
    },
    "language_info": {
      "name": "python"
    },
    "accelerator": "TPU"
  },
  "cells": [
    {
      "cell_type": "code",
      "source": [
        "import matplotlib.pyplot as plt\n",
        "import networkx as nx\n",
        "import random"
      ],
      "metadata": {
        "id": "z4X5fMLrEJbh"
      },
      "execution_count": null,
      "outputs": []
    },
    {
      "cell_type": "code",
      "source": [
        "\n",
        "def ant_colony_optimization(graph, source, destination, num_ants, num_iterations, evaporation_rate, alpha, beta):\n",
        "    pheromone = initialize_pheromone(graph)\n",
        "\n",
        "    best_path = None\n",
        "    best_path_length = float('inf')\n",
        "\n",
        "    for _ in range(num_iterations):\n",
        "        paths = []\n",
        "        path_lengths = []\n",
        "\n",
        "        for _ in range(num_ants):\n",
        "            path = construct_path(graph, source, destination, pheromone, alpha, beta)\n",
        "            path_length = calculate_path_length(graph, path)\n",
        "\n",
        "            if path_length < best_path_length:\n",
        "                best_path = path\n",
        "                best_path_length = path_length\n",
        "\n",
        "            paths.append(path)\n",
        "            path_lengths.append(path_length)\n",
        "\n",
        "        update_pheromone(pheromone, paths, path_lengths, evaporation_rate)\n",
        "    print(best_path)\n",
        "    return best_path, pheromone\n",
        "\n",
        "def initialize_pheromone(graph):\n",
        "\n",
        "    pheromone = {}\n",
        "    for edge in graph.edges:\n",
        "        pheromone[edge] = 1.0\n",
        "        #Para que reivse los dos lados\n",
        "        reverse_edge = (edge[1], edge[0])\n",
        "        pheromone[reverse_edge] = 1.0\n",
        "    return pheromone\n",
        "\n",
        "def construct_path(graph, source, destination, pheromone, alpha, beta):\n",
        "    path = [source]\n",
        "    current_node = source\n",
        "\n",
        "    while current_node != destination:\n",
        "        next_node = select_next_node(graph, current_node, destination, pheromone, alpha, beta)\n",
        "        path.append(next_node)\n",
        "        current_node = next_node\n",
        "\n",
        "    return path\n",
        "\n",
        "def select_next_node(graph, current_node, destination, pheromone, alpha, beta):\n",
        "    neighbors = list(graph.neighbors(current_node))\n",
        "\n",
        "    if destination in neighbors:\n",
        "        return destination\n",
        "\n",
        "    probabilities = []\n",
        "\n",
        "    for neighbor in neighbors:\n",
        "        pheromone_value = pheromone[(current_node, neighbor)]\n",
        "        distance = graph.edges[(current_node, neighbor)]['weight']\n",
        "        attractiveness = (pheromone_value ** alpha) * ((1.0 / distance) ** beta)\n",
        "        probabilities.append(attractiveness)\n",
        "\n",
        "    total_prob = sum(probabilities)\n",
        "    probabilities = [prob / total_prob for prob in probabilities]\n",
        "    return random.choices(neighbors, probabilities)[0]\n",
        "\n",
        "def calculate_path_length(graph, path):\n",
        "    path_length = 0\n",
        "    for i in range(len(path) - 1):\n",
        "        source = path[i]\n",
        "        destination = path[i+1]\n",
        "        path_length += graph.edges[(source, destination)]['weight']\n",
        "    return path_length\n",
        "\n",
        "def update_pheromone(pheromone, paths, path_lengths, evaporation_rate):\n",
        "    for edge in pheromone:\n",
        "        pheromone[edge] *= (1.0 - evaporation_rate)\n",
        "\n",
        "    for path, length in zip(paths, path_lengths):\n",
        "        for i in range(len(path) - 1):\n",
        "            source = path[i]\n",
        "            destination = path[i+1]\n",
        "\n",
        "            pheromone[(source, destination)] += 1.0 / length\n",
        "            pheromone[(destination, source)] += 1.0 / length\n",
        "\n",
        "\n",
        "# Create the graph\n",
        "G = nx.Graph()\n",
        "\n",
        "# Add edges to the graph\n",
        "G.add_edge(\"El rosario\", \"Tacuba\", weight=5.264)\n",
        "G.add_edge(\"Tacuba\", \"Tacubaya\", weight=5.843)\n",
        "G.add_edge(\"Martin Carrera\", \"D18M\", weight=1.711)\n",
        "G.add_edge(\"D18M\", \"IPetro\", weight=2.333)\n",
        "G.add_edge( \"IPetro\",\"D18M\", weight=2.333)\n",
        "G.add_edge(\"El rosario\", \"IPetro\", weight=5.890)\n",
        "G.add_edge(\"Martin Carrera\", \"Consulado\", weight=2.733)\n",
        "G.add_edge(\"Consulado\", \"Morelos\", weight=1.794)\n",
        "G.add_edge(\"Morelos\", \"Candelaria\", weight=1.062)\n",
        "G.add_edge(\"Candelaria\", \"Jamaica\", weight=2.726)\n",
        "G.add_edge(\"Jamaica\", \"Santa Anita\", weight=0.758)\n",
        "G.add_edge(\"Tacubaya\", \"CM\", weight=3.240)\n",
        "G.add_edge(\"CM\", \"Chabacano\", weight=2.059)\n",
        "G.add_edge(\"Chabacano\", \"Jamaica\", weight=1.031)\n",
        "G.add_edge(\"Jamaica\", \"Pantitlan\", weight=5.053)\n",
        "G.add_edge(\"Tacuba\", \"Hidalgo\", weight=4.016)\n",
        "G.add_edge(\"Bellas\", \"Hidalgo\", weight=0.447)\n",
        "G.add_edge(\"Bellas\", \"PinoS\", weight=1.734)\n",
        "G.add_edge(\"PinoS\", \"Chabacano\", weight=1.459)\n",
        "G.add_edge(\"Tacubaya\", \"Balderas\", weight=4.479)\n",
        "G.add_edge(\"Balderas\", \"SaltoA\", weight=0.458)\n",
        "G.add_edge(\"SaltoA\", \"PinoS\", weight=0.827)\n",
        "G.add_edge(\"PinoS\", \"Candelaria\", weight=1.443)\n",
        "G.add_edge(\"Candelaria\", \"SanLazaro\", weight=0.866)\n",
        "G.add_edge(\"SanLazaro\", \"Pantitlan\", weight=4.469)\n",
        "G.add_edge(\"IPetro\", \"La raza\", weight=2.042)\n",
        "G.add_edge(\"La raza\", \"Consulado\", weight=2.540)\n",
        "G.add_edge(\"Consulado\", \"Oceania\", weight=2.894)\n",
        "G.add_edge(\"Oceania\", \"Pantitlan\", weight=3.971)\n",
        "G.add_edge(\"Guerrero\", \"Garibaldi\", weight=0.757)\n",
        "G.add_edge(\"Garibaldi\", \"Morelos\", weight=1.583)\n",
        "G.add_edge(\"Morelos\", \"SanLazaro\", weight=1.296)\n",
        "G.add_edge(\"SanLazaro\", \"Oceania\", weight=2.624)\n",
        "G.add_edge(\"Garibaldi\", \"Bellas\", weight=0.634)\n",
        "G.add_edge(\"Bellas\", \"SaltoA\", weight=0.748)\n",
        "G.add_edge(\"SaltoA\", \"Chabacano\", weight=2.468)\n",
        "G.add_edge(\"Chabacano\", \"Santa Anita\", weight=1.476)\n",
        "G.add_edge(\"D18M\", \"La raza\", weight=2.072)\n",
        "G.add_edge(\"La raza\", \"Guerrero\", weight=2.487)\n",
        "G.add_edge(\"Guerrero\", \"Hidalgo\", weight=0.702)\n",
        "G.add_edge(\"Hidalgo\", \"Balderas\", weight=0.910)\n",
        "G.add_edge(\"Balderas\", \"CM\", weight=1.877)\n",
        "\n",
        "\n"
      ],
      "metadata": {
        "id": "Yx6RCc4-KtfV"
      },
      "execution_count": null,
      "outputs": []
    },
    {
      "cell_type": "code",
      "source": [
        "print(\"Graph Edges:\", G.edges)"
      ],
      "metadata": {
        "colab": {
          "base_uri": "https://localhost:8080/"
        },
        "id": "HR5ZH1IYNLzL",
        "outputId": "1534b00f-91ad-4b60-8454-bef3df359f59"
      },
      "execution_count": null,
      "outputs": [
        {
          "output_type": "stream",
          "name": "stdout",
          "text": [
            "Graph Edges: [('El rosario', 'Tacuba'), ('El rosario', 'IPetro'), ('Tacuba', 'Tacubaya'), ('Tacuba', 'Hidalgo'), ('Tacubaya', 'CM'), ('Tacubaya', 'Balderas'), ('Martin Carrera', 'D18M'), ('Martin Carrera', 'Consulado'), ('D18M', 'IPetro'), ('D18M', 'La raza'), ('IPetro', 'La raza'), ('Consulado', 'Morelos'), ('Consulado', 'La raza'), ('Consulado', 'Oceania'), ('Morelos', 'Candelaria'), ('Morelos', 'Garibaldi'), ('Morelos', 'SanLazaro'), ('Candelaria', 'Jamaica'), ('Candelaria', 'PinoS'), ('Candelaria', 'SanLazaro'), ('Jamaica', 'Santa Anita'), ('Jamaica', 'Chabacano'), ('Jamaica', 'Pantitlan'), ('Santa Anita', 'Chabacano'), ('CM', 'Chabacano'), ('CM', 'Balderas'), ('Chabacano', 'PinoS'), ('Chabacano', 'SaltoA'), ('Pantitlan', 'SanLazaro'), ('Pantitlan', 'Oceania'), ('Hidalgo', 'Bellas'), ('Hidalgo', 'Guerrero'), ('Hidalgo', 'Balderas'), ('Bellas', 'PinoS'), ('Bellas', 'Garibaldi'), ('Bellas', 'SaltoA'), ('PinoS', 'SaltoA'), ('Balderas', 'SaltoA'), ('SanLazaro', 'Oceania'), ('La raza', 'Guerrero'), ('Guerrero', 'Garibaldi')]\n"
          ]
        }
      ]
    },
    {
      "cell_type": "code",
      "source": [
        "#\n",
        "source_station = \"El rosario\"\n",
        "destination_station = \"Pantitlan\"\n",
        "\n",
        "# Parametro\n",
        "num_ants = 10\n",
        "num_iterations = 100\n",
        "evaporation_rate = 0.1\n",
        "alpha = 1.0\n",
        "beta = 2.0\n",
        "\n",
        "shortest_route,pheromone= ant_colony_optimization(G, source_station, destination_station, num_ants, num_iterations, evaporation_rate, alpha, beta)\n",
        "\n"
      ],
      "metadata": {
        "colab": {
          "base_uri": "https://localhost:8080/"
        },
        "id": "SH3HC9ulLmHF",
        "outputId": "1c2f2932-15ee-483d-baa5-015e9baa8067"
      },
      "execution_count": null,
      "outputs": [
        {
          "output_type": "stream",
          "name": "stdout",
          "text": [
            "['El rosario', 'IPetro', 'La raza', 'Consulado', 'Oceania', 'Pantitlan']\n"
          ]
        }
      ]
    },
    {
      "cell_type": "code",
      "source": [
        "print(\"Graph Edges:\", G.edges)\n",
        "print(\"Pheromone Dictionary:\", pheromone)\n",
        "path = [source]\n",
        "print"
      ],
      "metadata": {
        "colab": {
          "base_uri": "https://localhost:8080/",
          "height": 254
        },
        "id": "hhdKGFYTH8tT",
        "outputId": "de9e4ee6-10d6-4a48-8c28-e7977d975b56"
      },
      "execution_count": null,
      "outputs": [
        {
          "output_type": "stream",
          "name": "stdout",
          "text": [
            "Graph Edges: [('El rosario', 'Tacuba'), ('El rosario', 'IPetro'), ('Tacuba', 'Tacubaya'), ('Tacuba', 'Hidalgo'), ('Tacubaya', 'CM'), ('Tacubaya', 'Balderas'), ('Martin Carrera', 'D18M'), ('Martin Carrera', 'Consulado'), ('D18M', 'IPetro'), ('D18M', 'La raza'), ('IPetro', 'La raza'), ('Consulado', 'Morelos'), ('Consulado', 'La raza'), ('Consulado', 'Oceania'), ('Morelos', 'Candelaria'), ('Morelos', 'Garibaldi'), ('Morelos', 'SanLazaro'), ('Candelaria', 'Jamaica'), ('Candelaria', 'PinoS'), ('Candelaria', 'SanLazaro'), ('Jamaica', 'Santa Anita'), ('Jamaica', 'Chabacano'), ('Jamaica', 'Pantitlan'), ('Santa Anita', 'Chabacano'), ('CM', 'Chabacano'), ('CM', 'Balderas'), ('Chabacano', 'PinoS'), ('Chabacano', 'SaltoA'), ('Pantitlan', 'SanLazaro'), ('Pantitlan', 'Oceania'), ('Hidalgo', 'Bellas'), ('Hidalgo', 'Guerrero'), ('Hidalgo', 'Balderas'), ('Bellas', 'PinoS'), ('Bellas', 'Garibaldi'), ('Bellas', 'SaltoA'), ('PinoS', 'SaltoA'), ('Balderas', 'SaltoA'), ('SanLazaro', 'Oceania'), ('La raza', 'Guerrero'), ('Guerrero', 'Garibaldi')]\n",
            "Pheromone Dictionary: {('El rosario', 'Tacuba'): 4.660383673242468e-05, ('Tacuba', 'El rosario'): 4.660383673242468e-05, ('El rosario', 'IPetro'): 4.594547866069388e-05, ('IPetro', 'El rosario'): 4.594547866069388e-05, ('Tacuba', 'Tacubaya'): 4.686702850775277e-05, ('Tacubaya', 'Tacuba'): 4.686702850775277e-05, ('Tacuba', 'Hidalgo'): 2.7219756959318372e-05, ('Hidalgo', 'Tacuba'): 2.7219756959318372e-05, ('Tacubaya', 'CM'): 0.0001358170677353104, ('CM', 'Tacubaya'): 0.0001358170677353104, ('Tacubaya', 'Balderas'): 3.002796596569444e-05, ('Balderas', 'Tacubaya'): 3.002796596569444e-05, ('Martin Carrera', 'D18M'): 3.0499302157372586e-05, ('D18M', 'Martin Carrera'): 3.0499302157372586e-05, ('Martin Carrera', 'Consulado'): 2.686431452372486e-05, ('Consulado', 'Martin Carrera'): 2.686431452372486e-05, ('D18M', 'IPetro'): 6.654122097834945e-05, ('IPetro', 'D18M'): 6.654122097834945e-05, ('D18M', 'La raza'): 6.684413661448677e-05, ('La raza', 'D18M'): 6.684413661448677e-05, ('IPetro', 'La raza'): 5.146369050629432e-05, ('La raza', 'IPetro'): 5.146369050629432e-05, ('Consulado', 'Morelos'): 2.882670053718295e-05, ('Morelos', 'Consulado'): 2.882670053718295e-05, ('Consulado', 'La raza'): 2.6561398887587544e-05, ('La raza', 'Consulado'): 2.6561398887587544e-05, ('Consulado', 'Oceania'): 2.8523784901045632e-05, ('Oceania', 'Consulado'): 2.8523784901045632e-05, ('Morelos', 'Candelaria'): 6.574236970945185, ('Candelaria', 'Morelos'): 6.574236970945185, ('Morelos', 'Garibaldi'): 0.004323231753712657, ('Garibaldi', 'Morelos'): 0.004323231753712657, ('Morelos', 'SanLazaro'): 3.0449834225202534e-05, ('SanLazaro', 'Morelos'): 3.0449834225202534e-05, ('Candelaria', 'Jamaica'): 0.0002346896567365279, ('Jamaica', 'Candelaria'): 0.0002346896567365279, ('Candelaria', 'PinoS'): 6.574028842687336, ('PinoS', 'Candelaria'): 6.574028842687336, ('Candelaria', 'SanLazaro'): 2.6561398887587544e-05, ('SanLazaro', 'Candelaria'): 2.6561398887587544e-05, ('Jamaica', 'Santa Anita'): 28.821117728956356, ('Santa Anita', 'Jamaica'): 28.821117728956356, ('Jamaica', 'Chabacano'): 0.44595865070185003, ('Chabacano', 'Jamaica'): 0.44595865070185003, ('Jamaica', 'Pantitlan'): 3.395564720477993e-05, ('Pantitlan', 'Jamaica'): 3.395564720477993e-05, ('Santa Anita', 'Chabacano'): 0.00525971787401389, ('Chabacano', 'Santa Anita'): 0.00525971787401389, ('CM', 'Chabacano'): 12.80920858446839, ('Chabacano', 'CM'): 12.80920858446839, ('CM', 'Balderas'): 0.009020380575800303, ('Balderas', 'CM'): 0.009020380575800303, ('Chabacano', 'PinoS'): 19.85817896505421, ('PinoS', 'Chabacano'): 19.85817896505421, ('Chabacano', 'SaltoA'): 7.3969181107894e-05, ('SaltoA', 'Chabacano'): 7.3969181107894e-05, ('Pantitlan', 'SanLazaro'): 3.0449834225202534e-05, ('SanLazaro', 'Pantitlan'): 3.0449834225202534e-05, ('Pantitlan', 'Oceania'): 2.8523784901045632e-05, ('Oceania', 'Pantitlan'): 2.8523784901045632e-05, ('Hidalgo', 'Bellas'): 0.9254235064177496, ('Bellas', 'Hidalgo'): 0.9254235064177496, ('Hidalgo', 'Guerrero'): 0.001572560662999819, ('Guerrero', 'Hidalgo'): 0.001572560662999819, ('Hidalgo', 'Balderas'): 0.0012779961698007496, ('Balderas', 'Hidalgo'): 0.0012779961698007496, ('Bellas', 'PinoS'): 5.785303660233845e-05, ('PinoS', 'Bellas'): 5.785303660233845e-05, ('Bellas', 'Garibaldi'): 0.004044111267835594, ('Garibaldi', 'Bellas'): 0.004044111267835594, ('Bellas', 'SaltoA'): 0.007271702352250333, ('SaltoA', 'Bellas'): 0.007271702352250333, ('PinoS', 'SaltoA'): 0.021284641525191716, ('SaltoA', 'PinoS'): 0.021284641525191716, ('Balderas', 'SaltoA'): 11.792794484581034, ('SaltoA', 'Balderas'): 11.792794484581034, ('SanLazaro', 'Oceania'): 2.6561398887587544e-05, ('Oceania', 'SanLazaro'): 2.6561398887587544e-05, ('La raza', 'Guerrero'): 5.1766606142431595e-05, ('Guerrero', 'La raza'): 5.1766606142431595e-05, ('Guerrero', 'Garibaldi'): 0.0003056818847646487, ('Garibaldi', 'Guerrero'): 0.0003056818847646487}\n"
          ]
        },
        {
          "output_type": "error",
          "ename": "NameError",
          "evalue": "name 'source' is not defined",
          "traceback": [
            "\u001b[0;31m---------------------------------------------------------------------------\u001b[0m",
            "\u001b[0;31mNameError\u001b[0m                                 Traceback (most recent call last)",
            "\u001b[0;32m<ipython-input-5-076a4fd8a63a>\u001b[0m in \u001b[0;36m<cell line: 3>\u001b[0;34m()\u001b[0m\n\u001b[1;32m      1\u001b[0m \u001b[0mprint\u001b[0m\u001b[0;34m(\u001b[0m\u001b[0;34m\"Graph Edges:\"\u001b[0m\u001b[0;34m,\u001b[0m \u001b[0mG\u001b[0m\u001b[0;34m.\u001b[0m\u001b[0medges\u001b[0m\u001b[0;34m)\u001b[0m\u001b[0;34m\u001b[0m\u001b[0;34m\u001b[0m\u001b[0m\n\u001b[1;32m      2\u001b[0m \u001b[0mprint\u001b[0m\u001b[0;34m(\u001b[0m\u001b[0;34m\"Pheromone Dictionary:\"\u001b[0m\u001b[0;34m,\u001b[0m \u001b[0mpheromone\u001b[0m\u001b[0;34m)\u001b[0m\u001b[0;34m\u001b[0m\u001b[0;34m\u001b[0m\u001b[0m\n\u001b[0;32m----> 3\u001b[0;31m \u001b[0mpath\u001b[0m \u001b[0;34m=\u001b[0m \u001b[0;34m[\u001b[0m\u001b[0msource\u001b[0m\u001b[0;34m]\u001b[0m\u001b[0;34m\u001b[0m\u001b[0;34m\u001b[0m\u001b[0m\n\u001b[0m\u001b[1;32m      4\u001b[0m \u001b[0mprint\u001b[0m\u001b[0;34m\u001b[0m\u001b[0;34m\u001b[0m\u001b[0m\n",
            "\u001b[0;31mNameError\u001b[0m: name 'source' is not defined"
          ]
        }
      ]
    }
  ]
}